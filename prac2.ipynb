{
 "cells": [
  {
   "cell_type": "markdown",
   "metadata": {},
   "source": [
    "# Introduction to Artificial Intelligence for Non Computing"
   ]
  },
  {
   "cell_type": "markdown",
   "metadata": {},
   "source": [
    "## Practical 2 (weeks 3 - 4)"
   ]
  },
  {
   "cell_type": "markdown",
   "metadata": {},
   "source": [
    "## Search Techniques"
   ]
  },
  {
   "cell_type": "markdown",
   "metadata": {},
   "source": [
    "The following links provide additional information about depth first search and breath first search"
   ]
  },
  {
   "cell_type": "markdown",
   "metadata": {},
   "source": [
    "- Depth first search:   link：https://pan.baidu.com/s/1bkLHKKbSBNpfFuKwDyURqw  password：oy76\n",
    "- Breath first search:  link：https://pan.baidu.com/s/176g5q0W3rGbSAM5tZMraeg   password：7mdh"
   ]
  },
  {
   "cell_type": "markdown",
   "metadata": {},
   "source": [
    "#### Theory Questions "
   ]
  },
  {
   "cell_type": "markdown",
   "metadata": {},
   "source": [
    "1\\. What is an algorithm? A sequence of steps such as a recipe or a movie script.\n",
    "\n",
    "As a movie viewer, please write an algorithm for a process to \"see a movie\". Include details of the following for example (add additional information yourself):\n",
    "\t- The start conditions \n",
    "\t-- I want to watch a movie\n",
    "\t- Roles (people/actors involved) \n",
    "    --watcher, ticket seller etc \n",
    "    -Equipment required (\"props\")\n",
    "    --seats, ticket etc\n",
    "    - The scenes \n",
    "    -- scene 1 - buy ticket \n",
    "    -- ??? what happens next\n",
    "    -- scene 3, scene 3 ...\n",
    "    - Results/outcomes\n",
    "    -- ?\n"
   ]
  },
  {
   "cell_type": "markdown",
   "metadata": {},
   "source": [
    "_your answer here..._ \n",
    "\n",
    "***Sceenplay\n",
    "1. The start conditions\n",
    "   (a) I want to watch a movie.\n",
    "   (b) I have enough money.\n",
    "   \n",
    "2. Roles\n",
    "    I, actor, the doorman, the popcorn seller\n",
    "\n",
    "3. Props\n",
    "   Electronic devices, smart ticket seller box, popcorn machine, ticket popcorn, seats, Movies Screen\n",
    "\n",
    "4. Then scene:\n",
    "   Scene One: Buy ticket\n",
    "   (a) I checked online to see what movies are available.\n",
    "   (b) I deciced which movie to see.\n",
    "   (c) I bought the ticket online.\n",
    "   Scene Two: Get ticket\n",
    "   (a) I went to the cinema.\n",
    "   (b) I found the smart ticket seller boxes.\n",
    "   (c) I scan the QR code and get the ticket.\n",
    "   Scene Three: Buy popcorn\n",
    "   (a) I went to the popcorn seller.\n",
    "   (b) I gave the seller money\n",
    "   (c) The seller gave me popcorn.\n",
    "   Scene Four: Watch Movie\n",
    "   (a) I went to the hall where my movie play.\n",
    "   (b) I found my seat.\n",
    "   (c) I sat down and wait for the movie begins.\n",
    "   Sceen Five: The movie ends.\n",
    "   (a) I stood up from my seat.\n",
    "   (b) I strech out.\n",
    "   (c) I leave the movie theatre.\n",
    "\n",
    "5. The outcomes\n",
    "   (a) I enjoyed the movie.\n",
    "   (b) I ate popcorn.\n",
    "   (c) I spent the money.\n",
    "   (d) The cinema earned money.\n"
   ]
  },
  {
   "cell_type": "markdown",
   "metadata": {},
   "source": [
    "2\\. A farmer with his wolf, duck and bag of corn come to the east side of a river they wish to cross. There is a boat at the rivers edge, but of course only the farmer can row. The boat can only hold two things (including the rower) at any one time. If the wolf is ever left alone with the duck, the wolf will eat it. Similarly if the duck is ever left alone with the corn, the duck will eat it. How can the farmer get across the river so that all four arrive safely on the other side? "
   ]
  },
  {
   "cell_type": "markdown",
   "metadata": {},
   "source": [
    "_your answer here..._ \n",
    "***One possibilities to arrive safety on the other side.\n",
    "1. TO START\n",
    "2. Farmer takes the duck over.\n",
    "3. Farmer gets back.\n",
    "4. Farmer takes the wolf over.\n",
    "5. Farmer gets back with the durk.\n",
    "6. Farmer takes the corn over.\n",
    "7. Farmer gets back.\n",
    "8. Farmer takes the duck over.\n",
    "9. All four successfully arrived.\n"
   ]
  },
  {
   "cell_type": "markdown",
   "metadata": {},
   "source": [
    " "
   ]
  },
  {
   "cell_type": "markdown",
   "metadata": {},
   "source": [
    "3\\.Explain why we determine our problem goals before we write the problem formulation (including the model and deciding what algorithm or techniques to use - for example search, or other method).\n",
    "\n",
    "See Chapter3.1 (Russel & Norvig)"
   ]
  },
  {
   "cell_type": "markdown",
   "metadata": {},
   "source": [
    "_your answer here..._ \n",
    "While making decisions, it consists of a whole continous human's action and a lot of element involved. As shown in Chaper 3.1, goals help organize behavior by limiting the objectives that the agent is trying to achieve and hence the actions it needs to consider. The goal formulation may based on the current situations and the human's performance measurance. So  without decisioning our problerms, we won't be able to check and figure out what is going to happen in the process and what algorithm fits them well. In that, making decision before goal formulations helps us to get useful and sufficient solutions."
   ]
  },
  {
   "cell_type": "markdown",
   "metadata": {},
   "source": [
    "4\\. This question requires you to perform BFS and DFS on paper.\n",
    "\n",
    "<img src=\"img/p1.png\" width=\"180\" height=\"180\" >\n",
    "\n",
    "1. Simulate (on pencil-and-paper) breadth-first search starting from node A when the goal node is K.\n",
    "2. Simulate (on pencil-and-paper) depth first search starting from node A when the goal node is I.\n"
   ]
  },
  {
   "cell_type": "markdown",
   "metadata": {},
   "source": [
    "1. BFS Model\n",
    "   A - B/ B - (C, D)/ D - (G, H)/ H - (I, K)/K\n",
    "2. DFS Model\n",
    "   A - B/ B-C/ C - E (wrong)/ C - F (wrong)/ D - G (wrong)/ D - H (wrong)/ H -I (correct!) \n"
   ]
  },
  {
   "cell_type": "markdown",
   "metadata": {},
   "source": [
    "5\\.Consider a state space where the start state is number 1 and each state  k has two successors: numbers 2k and 2k + 1.\n",
    "- a. Draw the portion of the state space for states 1 to 15.\n",
    "- b. Suppose the goal state is 11. List the order in which nodes will be visited for breadthfirst\n",
    "search, depth-limited search with limit 3, and iterative deepening search.\n",
    "- c. How well would bidirectional search work on this problem? What is the branching\n",
    "factor in each direction of the bidirectional search?\n",
    "- d. Does the answer to (c) suggest a reformulation of the problem that would allow you to\n",
    "solve the problem of getting from state 1 to a given goal state with almost no search?\n",
    "- e. Call the action going from k to 2k Left, and the action going to 2k + 1 Right. Can you\n",
    "find an algorithm that outputs the solution to this problem without any search at all?\n",
    "\n",
    "See textbook Chapter3.15"
   ]
  },
  {
   "cell_type": "markdown",
   "metadata": {},
   "source": [
    "1.               -------(1)-------\n",
    "          --(2)--                   --(3)--\n",
    "  --(4)--    --(5)--     --(6)--    --(7)--\n",
    "  (8)   (9)    (10)   (11)    (12)   (13)  (14)  (15)\n",
    "\n",
    "2. BFS: 1, 2, 3, 4, 5, 6, 7, 8, 9, 10, 11 \n",
    "    DLS: 1, 2, 4, 8, 9, 10, 11\n",
    "    Iterative deepening: 1, 1, 2, 4, 1, 2, 4, 5, 6, 7, 1, 2, 4, 8, 9, 10, 11\n",
    "   \n",
    "3. Bidirectional search is very useful. Because only successor of n in the reverse direction is n/2.  The branching factor is 2 in the forward direction. 1 in the reverse direction.\n",
    "\n",
    "4. Yes.\n",
    "\n",
    "5. We can write the goal in binary. The binary expansion beings with 1, since we only reach positive integers. First skipping the initial 1. If the bit is 0, go left to the 2n, if bit 1, go right to 2n+1.\n",
    "    "
   ]
  },
  {
   "cell_type": "markdown",
   "metadata": {},
   "source": [
    "### Programming Excercises"
   ]
  },
  {
   "cell_type": "markdown",
   "metadata": {},
   "source": [
    "1\\.Write a program to solve a classic ancient Chinese puzzle:  \n",
    " We count 35 heads and 94 legs among the chickens and rabbits in a farm. How many rabbits and how many chickens do we have? "
   ]
  },
  {
   "cell_type": "code",
   "execution_count": 1,
   "metadata": {},
   "outputs": [
    {
     "ename": "SyntaxError",
     "evalue": "invalid syntax (<ipython-input-1-84eac59366f2>, line 4)",
     "output_type": "error",
     "traceback": [
      "\u001b[0;36m  File \u001b[0;32m\"<ipython-input-1-84eac59366f2>\"\u001b[0;36m, line \u001b[0;32m4\u001b[0m\n\u001b[0;31m    print np.linalg.solve(a,b)\u001b[0m\n\u001b[0m           ^\u001b[0m\n\u001b[0;31mSyntaxError\u001b[0m\u001b[0;31m:\u001b[0m invalid syntax\n"
     ]
    }
   ],
   "source": [
    "import numpy as np\n",
    "a = np.array([[1,1],[4,2]])\n",
    "b = np.array([35,94])\n",
    "print np.linalg.solve(a,b)\n"
   ]
  },
  {
   "cell_type": "markdown",
   "metadata": {},
   "source": [
    "2\\. _Social networking_ Please look at the graph below of social relationships. You have a mango farm, you need to find a mango buyer and sell him your mango that you have grown (just a small farm). To this end, our principle is to use our social network of friends separated by one degree, and then second degree friends (friends of friends), third degree friends (friends of friends of friends).\n",
    "\n",
    "Use the depth first algorithm to search your network until you find a mango seller. \n",
    "\n",
    "We make an assumption that if the person's name ends with m, then it means the person must be the mango seller!\n",
    "\n",
    "\n",
    "<img src=\"img/p3.png\" width=\"500\" height=\"400\" >"
   ]
  },
  {
   "cell_type": "code",
   "execution_count": 4,
   "metadata": {},
   "outputs": [],
   "source": [
    "from compiler.misc import Stack\n",
    "\n",
    "\n",
    "def DFS(root):\n",
    "    stack = Stack()\n",
    "    stack.push(root)\n",
    "    visited=[]\n",
    "    while not stack.isEmpty():\n",
    "        current = stack.pop()\n",
    "        if current.end == 'm':\n",
    "            return current\n",
    "        if current not in visited:\n",
    "            visited.append(current)\n",
    "            neighbor = current.getNext()\n",
    "            for node in neighbor:\n",
    "                if node.end == 'm':\n",
    "                    return node\n",
    "                else:\n",
    "                    stack.push(node)"
   ]
  },
  {
   "cell_type": "markdown",
   "metadata": {},
   "source": [
    "3\\. Depth First traverse：Use depth first traversal to traverse all the DLL files on the C disk and output the file names.\n",
    "\n",
    "Update your code to search for a particular filename.\n",
    "\n",
    "What protocol did you use to select the next node to expand on the fringe?"
   ]
  },
  {
   "cell_type": "code",
   "execution_count": null,
   "metadata": {},
   "outputs": [],
   "source": [
    "## write your answer here!\n",
    "import os\n",
    "def DFS_Traverse(path, dirCallback = None, fileCallback = None):\n",
    "    stack = []\n",
    "    ret = []\n",
    "    stack.append(path);\n",
    "    while len(stack) > 0:\n",
    "        tmp = stack.pop(len(stack) - 1)\n",
    "        if(os.path.isdir(tmp)):\n",
    "            ret.append(tmp)\n",
    "            for item in os.listdir(tmp):\n",
    "                stack.append(os.path.join(tmp, item))\n",
    "            if dirCallback:\n",
    "                dirCallback(tmp)\n",
    "        elif(os.path.isfile(tmp)):\n",
    "            ret.append(tmp)\n",
    "            if fileCallback:\n",
    "                fileCallback(tmp)\n",
    "    return ret\n",
    "\n",
    "def printDir(path):\n",
    "    print \"dir: \" + path\n",
    "\n",
    "def printFile(path):\n",
    "    print \"file: \" + path\n",
    "\n",
    "d = DFS_Traverse(r'C:\\tmp', printDir, printFile)\n",
    "\n"
   ]
  },
  {
   "cell_type": "markdown",
   "metadata": {},
   "source": [
    "4\\.\n",
    "Breadth First traverse：Use breadth traversal to traverse all the DLL files on the C disk and output the filename.\n",
    "\n",
    "Update your code to search for a particular filename."
   ]
  },
  {
   "cell_type": "code",
   "execution_count": null,
   "metadata": {},
   "outputs": [],
   "source": [
    "## write your answer here!\n",
    "import os\n",
    "def BFS_Trasverse(path,dirCallback = None, fileCallback = None):\n",
    "    queue = []\n",
    "    ret = []\n",
    "    queue.append(path);\n",
    "    while len(queue)>0:\n",
    "        tmp = queue.pop(0)\n",
    "        if(os.path.isdir(tmp)):\n",
    "            ret.append(tmp)\n",
    "            for item in os.listdir(tmp):\n",
    "                queue.append(os.path.join(tmp,item))\n",
    "                if dirCallback:\n",
    "                    dirCallback(tmp)\n",
    "                elif(os.path.isfile(tmp)):\n",
    "                    ret.append(tmp)\n",
    "                    if fileCallback:\n",
    "                        fileCallback(tmp)\n",
    "                        return ret\n",
    "                    a = BFS_Trasverse(r'C:\\tmp', printDir, printFile)\n",
    "\n"
   ]
  },
  {
   "cell_type": "markdown",
   "metadata": {},
   "source": [
    "5\\. Uniform cost search"
   ]
  },
  {
   "cell_type": "markdown",
   "metadata": {},
   "source": [
    "Consider a state space where the start state is 2 and each state k has three successors: numbers 2k, 2k+1, 2k+2. The cost from state k to each respective child is k, ground(k/2), k+2.\n",
    "\n",
    "can you implement a uniform-cost-search algorithm with python. The goal state is number 85."
   ]
  },
  {
   "cell_type": "markdown",
   "metadata": {},
   "source": [
    "6\\.a* question"
   ]
  },
  {
   "cell_type": "markdown",
   "metadata": {},
   "source": [
    "A cute cat stays in the A position, he is hungry. But the food is placed in the B position. Can you help him to find the food? \n",
    "Hint:  The problem isn't easy. It's essential for you to understand the A* algorithm before you solve this problem. Then, you can use some thought of Node in java, when you are in code.\n",
    "\n",
    "<img src=\"img/p4.png\" width=\"500\" height=\"400\" >\n"
   ]
  },
  {
   "cell_type": "code",
   "execution_count": null,
   "metadata": {},
   "outputs": [],
   "source": [
    "## write your answer here!\n",
    "from Queue import PriorityQueue\n",
    "\n",
    "from scipy.sparse.linalg.isolve.tests.demo_lgmres import problem\n",
    "\n",
    "\n",
    "def heuristic(side, problem):\n",
    "    pass\n",
    "\n",
    "\n",
    "def Test(start, goal):\n",
    "    open_list = PriorityQueue()\n",
    "    visited = []\n",
    "    if start == goal:\n",
    "        return []\n",
    "    else:\n",
    "        open_list.push((start, []), 0)\n",
    "        while not open_list.isEmpty():\n",
    "            current, path = open_list.pop()\n",
    "            if goal == current:\n",
    "                return path\n",
    "            if current not in visited:\n",
    "                visited.append(current)\n",
    "                neighbor = current.nextNode()\n",
    "                for side, direction, cost in neighbor:\n",
    "                    newPath = current+ [direction]\n",
    "                    newCost = current.cost + cost + heuristic(side, problem)\n",
    "                    if side not in visited:\n",
    "                        open_list.push((side, newPath), newCost)\n"
   ]
  }
 ],
 "metadata": {
  "kernelspec": {
   "display_name": "Python 3",
   "language": "python",
   "name": "python3"
  },
  "language_info": {
   "codemirror_mode": {
    "name": "ipython",
    "version": 3
   },
   "file_extension": ".py",
   "mimetype": "text/x-python",
   "name": "python",
   "nbconvert_exporter": "python",
   "pygments_lexer": "ipython3",
   "version": "3.6.6"
  }
 },
 "nbformat": 4,
 "nbformat_minor": 2
}
