{
 "cells": [
  {
   "cell_type": "markdown",
   "metadata": {},
   "source": [
    "# Introduction to Artificial Intelligence for Non Computing"
   ]
  },
  {
   "cell_type": "markdown",
   "metadata": {},
   "source": [
    "## Practical 3 (weeks 5 - 6)"
   ]
  },
  {
   "cell_type": "markdown",
   "metadata": {},
   "source": [
    "The following links provide additional information about data analysis , machine learning and Numpy"
   ]
  },
  {
   "cell_type": "markdown",
   "metadata": {},
   "source": [
    "Python data analysis: https://www.imooc.com/learn/843\n",
    "machine learning: https://www.imooc.com/learn/717\n",
    "Numpy :https://www.imooc.com/learn/943"
   ]
  },
  {
   "cell_type": "markdown",
   "metadata": {},
   "source": [
    "#### Theory Questions"
   ]
  },
  {
   "cell_type": "markdown",
   "metadata": {},
   "source": [
    "1\\.Which of the following are true and which are false? Give brief explanations.\n",
    "- a. In a fully observable, turn-taking, zero-sum game between two perfectly rational players,it does not help the first player to know what strategy the second player is using—that is, what move the second player will make, given the first player's move.\n",
    "- b. In a partially observable, turn-taking, zero-sum game between two perfectly rational players, it does not help the first player to know what move the second player will make, given the first player's move.\n",
    "- c. A perfectly rational backgammon agent never loses.\n",
    "\n",
    "See textbook Chapter6 24.6"
   ]
  },
  {
   "cell_type": "markdown",
   "metadata": {},
   "source": [
    "_your answer here..._ \n",
    "\n",
    "***\n",
    "1.True; The two players know exactly how to play the game. So the first player have no idea knowing what strategy will the second player make.\n",
    "2.False; In the partially obserbable game, knowing the second player's move tells the first player additional infomation.\n",
    "3.False; The winning between backgammon is highly related with chance."
   ]
  },
  {
   "cell_type": "markdown",
   "metadata": {},
   "source": [
    "2\\.Define in your own words the terms constraint, backtracking search, arc consistency,backjumping, min-conflicts, and cycle cutset.\n",
    "\n",
    "See textbook Chapter6 6.16"
   ]
  },
  {
   "cell_type": "markdown",
   "metadata": {},
   "source": [
    "_your answer here..._ \n",
    "\n",
    "***\n",
    "constraint: A constraint is a restriction on the possible values of two or more variables.For example,a constraint might say that A=a is not allowed in conjunction with B=b.\n",
    "\n",
    "Backtracking search: Backtracking search is a form depth-first search in which there is a single representation of the state that gets updated for each successor,and then must be restored when a dead end is reached.\n",
    "\n",
    "arc consistenty: A directed arc from variable A to variable B in a CSP is arc consistent if,for every value in the current domain of A,there is some consistent value of B.\n",
    "\n",
    "Brckjumping: Backjumping is a way of making backtracking search more efficient,by jumping back more than one level when a dead end is reached.\n",
    "\n",
    "Min-conflicts: Min-conflicts is a heuristic for use with local search on CSP problems.The heuristic says that,when given a variable to modify,choose the value that conflicts with the fewest number of other variables"
   ]
  },
  {
   "cell_type": "markdown",
   "metadata": {},
   "source": [
    "3\\.Explain why it is a good heuristic to choose the variable that is most constrained but the value that is least constraining in a CSP search.\n",
    "\n",
    "See textbook Chapter6 6.9"
   ]
  },
  {
   "cell_type": "markdown",
   "metadata": {},
   "source": [
    "_your answer here..._ \n",
    "\n",
    "***\n",
    "The early constrained variable is more easily to breack down and is earlier to break down too. The least constraining value heuristic make sence and able to avoid conflict."
   ]
  },
  {
   "cell_type": "markdown",
   "metadata": {},
   "source": [
    "4\\.Consider the following procedure for choosing moves in games with chance nodes: \n",
    "- 1、Generate some dice-roll sequences (say, 50) down to a suitable depth (say, 8).\n",
    "- 2、With known dice rolls, the game tree becomes deterministic. For each dice-roll sequence,solve the resulting deterministic game tree using alpha-beta.\n",
    "- 3、Use the results to estimate the value of each move and to choose the best.Will this procedure work well? Why (or why not)?\n",
    "\n",
    "See textbook Chapter5 5.19"
   ]
  },
  {
   "cell_type": "markdown",
   "metadata": {},
   "source": [
    "_your answer here..._ \n",
    "\n",
    "***\n",
    "This procedure connot lead to a correct results. The choice will made by the deterministic tree and based on full knowledge of future dice rolls."
   ]
  },
  {
   "cell_type": "markdown",
   "metadata": {},
   "source": [
    "5\\. Now,please consider this game:  there are three plates A, B and C, each plate has three bills. A puts 1, 20, 50; B puts 5, 10, 100; C puts 1, 5, 20. All units are \"Yuan\". There are two persons A and B, and two of them can check out three plates and banknotes .（ A is ourself, The other is B）\n",
    "The game is divided into three steps: \n",
    "- 1、A select a plate from three plate.\n",
    "- 2、B take out two banknotes from A selected plate,and give the  banknotes to A.  \n",
    "- 3、A take one of the two banknotes, and take it away.among,A want to get the max banknotes, B want to let A to get the min.\n",
    "\n",
    "Try to understand the minimax algorithm，you can click the link:https://blog.csdn.net/tangchenyi/article/details/22920031"
   ]
  },
  {
   "cell_type": "markdown",
   "metadata": {},
   "source": [
    "_your answer here..._ \n",
    "\n",
    "As if A is us, we can consider this question in this way:\n",
    "if A choose plate A, then B would choose 20 and 1, in that A will choose 20.\n",
    "if A choose plate B, then B would chosse 5 and 10, in that A choose 10\n",
    "if A choose plate C, then B choose 1 and 5, A choose 5\n",
    "***"
   ]
  },
  {
   "cell_type": "markdown",
   "metadata": {},
   "source": [
    "### Programming Excercises"
   ]
  },
  {
   "cell_type": "markdown",
   "metadata": {},
   "source": [
    "1\\. Guess number(Single number): please generate a randomly number  with the function (random), then ask someone to guess the number,I think we should give the corresponding hint, otherwise it will be very difficult to guess the number.the game will be over untill you get the right number."
   ]
  },
  {
   "cell_type": "code",
   "execution_count": 1,
   "metadata": {},
   "outputs": [
    {
     "name": "stdout",
     "output_type": "stream",
     "text": [
      "Choose your number!10\n",
      "the 1 time: Your number is too small\n",
      "Choose your number again50\n",
      "the 2 time: Your number is too small\n",
      "Choose your number again90\n",
      "the 3 time: Your number is too small\n",
      "Choose your number again99\n",
      "the 4 time: Your number is too big.\n",
      "Choose your number again95\n",
      "the 4 time: Your number is too small\n",
      "Choose your number again97\n",
      "the 5 time: Your number is too small\n",
      "Choose your number again98\n",
      "Congrates!You are right!\n"
     ]
    }
   ],
   "source": [
    "## write your answer here!\n",
    "import random\n",
    "a= random.randint(0,100)\n",
    "b = int(input('Choose your number!'))\n",
    "i=1\n",
    "while(a!=b):\n",
    "    if b>a:\n",
    "        print(\"the %d time: Your number is too big.\"%i)\n",
    "        b = int(input(\"Choose your number again\"))\n",
    "    else:\n",
    "            print(\"the %d time: Your number is too small\"%i)\n",
    "            b = int(input(\"Choose your number again\"))\n",
    "            i+=1\n",
    "else:\n",
    "            print(\"Congrates!You are right!\")"
   ]
  },
  {
   "cell_type": "markdown",
   "metadata": {},
   "source": [
    "2\\.if you had understand the guess single number games,Congratulates,next is the guess three number games,Maybe you can do it well.But this is a different way of thinking. \n",
    "first : we need generate three numbers,there are most ten times chances give  you to guess the number,of course,we also give you some cue.\n",
    "\n",
    "- 'When I say:-->It means:\n",
    "- 'error--> The 3 numbers are not in the mystical numbers.'\n",
    "- 'Only the number is correct --> the number is right , but the position is not right.'\n",
    "- 'Absolutely right--> numbers is right and the position also right.'\n",
    "\n",
    "Maybe it's better for you to understand the rule well through see the picture.\n",
    "<div style=\"float:left;\" ><img src=\"img/p1.png\" width=\"400\" height=\"300\" >"
   ]
  },
  {
   "cell_type": "code",
   "execution_count": null,
   "metadata": {},
   "outputs": [
    {
     "name": "stdout",
     "output_type": "stream",
     "text": [
      "There are 3 numbers, please Guess what it is.\n",
      "The clue I gave is:\n",
      "When I say:                        It means:\n",
      "Error                              The 3 numbers are not in the mystical number\n",
      "Only the number is correct         The number is right, but the position is wrong\n",
      "Absolutely right                   Number is right and the position is also right\n",
      "There are 3 numbers. You have 10 chance to  guess it\n",
      "\n",
      "This is the 1 time: 100\n",
      "['Error', 'Error', 'Error']\n",
      "\n"
     ]
    }
   ],
   "source": [
    "## write your answer here!\n",
    "import random\n",
    "\n",
    "print(\"There are 3 numbers, please Guess what it is.\")\n",
    "print(\"The clue I gave is:\")\n",
    "print(\"When I say:                        It means:\\n\"\n",
    "      \"Error                              The 3 numbers are not in the mystical number\\n\"\n",
    "      \"Only the number is correct         The number is right, but the position is wrong\\n\"\n",
    "      \"Absolutely right                   Number is right and the position is also right\\n\"\n",
    "      \"There are 3 numbers. You have 10 chance to  guess it\")\n",
    "sequence = (\"0\", \"1\", \"2\", \"3\", \"4\", \"5\", \"6\", \"7\", \"8\", \"9\")\n",
    "aim = random.sample(sequence, 3)\n",
    "while True:\n",
    "    for i in range(1, 11):\n",
    "        print()\n",
    "        num = input(\"This is the {} time: \".format(i))\n",
    "        result = []\n",
    "        for n in range(0, 3):\n",
    "            if num[n] == aim[n]:\n",
    "                result.append(\"Absolutely right\")\n",
    "            else:\n",
    "                if num[n] in aim:\n",
    "                    result.append(\"Only the number is correct\")\n",
    "                else:\n",
    "                    result.append(\"Error\")\n",
    "        if result == [\"Absolutely right\", \"Absolutely right\", \"Absolutely right\"]:\n",
    "            print(\"Congratulation!\")\n",
    "            break\n",
    "        else:\n",
    "            print(result)\n",
    "    print(\"Do you want to play again?(yes or no)\")\n",
    "    answer = input()\n",
    "    if answer == \"no\":\n",
    "        break"
   ]
  },
  {
   "cell_type": "markdown",
   "metadata": {},
   "source": [
    "3\\.please try using Python's Tkinter to make a visual interface（GUI）.if you don't know anything.Maybe you can refer to the below interface.and implement it by code.\n",
    "\n",
    "<div style=\"float:left;\" ><img src=\"img/p2.png\" width=\"200\" height=\"200\" >"
   ]
  },
  {
   "cell_type": "code",
   "execution_count": 1,
   "metadata": {},
   "outputs": [
    {
     "ename": "ModuleNotFoundError",
     "evalue": "No module named 'Tkinter'",
     "traceback": [
      "\u001b[0;31m---------------------------------------------------------------------------\u001b[0m",
      "\u001b[0;31mModuleNotFoundError\u001b[0m                       Traceback (most recent call last)",
      "\u001b[0;32m<ipython-input-1-7744155d000d>\u001b[0m in \u001b[0;36m<module>\u001b[0;34m()\u001b[0m\n\u001b[1;32m      1\u001b[0m \u001b[0;31m## write your answer here!\u001b[0m\u001b[0;34m\u001b[0m\u001b[0;34m\u001b[0m\u001b[0m\n\u001b[0;32m----> 2\u001b[0;31m \u001b[0;32mfrom\u001b[0m \u001b[0mTkinter\u001b[0m \u001b[0;32mimport\u001b[0m \u001b[0;34m*\u001b[0m\u001b[0;34m\u001b[0m\u001b[0m\n\u001b[0m\u001b[1;32m      3\u001b[0m \u001b[0;34m\u001b[0m\u001b[0m\n\u001b[1;32m      4\u001b[0m \u001b[0mroot\u001b[0m \u001b[0;34m=\u001b[0m \u001b[0mTk\u001b[0m\u001b[0;34m(\u001b[0m\u001b[0;34m)\u001b[0m\u001b[0;34m\u001b[0m\u001b[0m\n\u001b[1;32m      5\u001b[0m \u001b[0mli\u001b[0m \u001b[0;34m=\u001b[0m \u001b[0;34m[\u001b[0m\u001b[0;34m'C'\u001b[0m\u001b[0;34m,\u001b[0m \u001b[0;34m'python'\u001b[0m\u001b[0;34m,\u001b[0m \u001b[0;34m'php'\u001b[0m\u001b[0;34m,\u001b[0m \u001b[0;34m'html'\u001b[0m\u001b[0;34m,\u001b[0m \u001b[0;34m'SQL'\u001b[0m\u001b[0;34m,\u001b[0m \u001b[0;34m'java'\u001b[0m\u001b[0;34m]\u001b[0m\u001b[0;34m\u001b[0m\u001b[0m\n",
      "\u001b[0;31mModuleNotFoundError\u001b[0m: No module named 'Tkinter'"
     ],
     "output_type": "error"
    }
   ],
   "source": [
    "## write your answer here!\n",
    "from Tkinter import *\n",
    "\n",
    "root = Tk()\n",
    "li = ['C', 'python', 'php', 'html', 'SQL', 'java']\n",
    "movie = ['CSS', 'jQuery', 'Bootstrap']\n",
    "listb = Listbox(root)\n",
    "listb2 = Listbox(root)\n",
    "for item in li:\n",
    "    listb.insert(0, item)\n",
    "\n",
    "for item in movie:\n",
    "    listb2.insert(0, item)\n",
    "\n",
    "listb.pack()\n",
    "listb2.pack()\n",
    "root.mainloop()  "
   ]
  },
  {
   "cell_type": "markdown",
   "metadata": {},
   "source": [
    "4\\.Through the initial trial of Tkinter,    please write a simple calculator.\n",
    "\n",
    "<div style=\"float:left;\" ><img src=\"img/p3.png\" width=\"180\" height=\"200\" center=\"left\"></div>\n",
    "<div style=\"float:left;\" ><img src=\"img/p4.png\" width=\"180\" height=\"200\" center=\"right\" ></div>"
   ]
  },
  {
   "cell_type": "code",
   "execution_count": 1,
   "metadata": {},
   "outputs": [
    {
     "ename": "SyntaxError",
     "evalue": "Missing parentheses in call to 'print'. Did you mean print(n)? (<ipython-input-1-708842c977aa>, line 11)",
     "traceback": [
      "\u001b[0;36m  File \u001b[0;32m\"<ipython-input-1-708842c977aa>\"\u001b[0;36m, line \u001b[0;32m11\u001b[0m\n\u001b[0;31m    print n\u001b[0m\n\u001b[0m          ^\u001b[0m\n\u001b[0;31mSyntaxError\u001b[0m\u001b[0;31m:\u001b[0m Missing parentheses in call to 'print'. Did you mean print(n)?\n"
     ],
     "output_type": "error"
    }
   ],
   "source": [
    "## write your answer here!\n",
    "from Tkinter import *\n",
    "import time\n",
    "\n",
    "root = Tk()\n",
    "def cacl(input_str):\n",
    "   if \"x\" in input_str:\n",
    "       ret = input_str.split(\"x\")\n",
    "       return int(ret[0]) * int(ret[1])\n",
    "def callback(n):\n",
    "    print n\n",
    "def callback1(n):\n",
    "    print n\n",
    "class App:\n",
    "    def __init__(self, master):\n",
    "        frame1 = Frame(master)\n",
    "        frame1.pack()\n",
    "        frame = Frame(master)\n",
    "        frame.pack()\n",
    "        Button(frame, text=\"1\", command=lambda: callback(1)).grid(row=0, column=0)\n",
    "        Button(frame, text=\"2\", command=lambda: callback(2)).grid(row=0, column=1)\n",
    "        Button(frame, text=\"3\", command=lambda: callback(3)).grid(row=0, column=2)\n",
    "        Button(frame, text=\"4\", command=lambda: callback(4)).grid(row=1, column=0)\n",
    "        Button(frame, text=\"5\", command=lambda: callback(5)).grid(row=1, column=1)\n",
    "        Button(frame, text=\"6\", command=lambda: callback(6)).grid(row=1, column=2)\n",
    "        Button(frame, text=\"7\", command=lambda: callback(7)).grid(row=2, column=0)\n",
    "        Button(frame, text=\"8\", command=lambda: callback(8)).grid(row=2, column=1)\n",
    "        Button(frame, text=\"9\", command=lambda: callback(9)).grid(row=2, column=2)\n",
    "        Button(frame, text=\"0\", command=lambda: callback(0)).grid(row=3, column=0)\n",
    "        Button(frame, text=\"+\", command=lambda: callback1(\"+\")).grid(row=3, column=1)\n",
    "        Button(frame, text=\"-\", command=lambda: callback1(\"-\")).grid(row=3, column=2)\n",
    "        Button(frame, text=\"*\", command=lambda: callback1(\"*\")).grid(row=4, column=1)\n",
    "        Button(frame, text=\"/\", command=lambda: callback1(\"/\")).grid(row=4, column=2)\n",
    "        Button(frame, text=\"=\", command=self.say_hi).grid(row=4, column=0)\n",
    "\n",
    "        w = Label(frame1, text=\"输入结果\")\n",
    "        w.pack()\n",
    "        self.e = Entry(frame1)\n",
    "        self.e.pack(padx=5)\n",
    "        w1 = Label(frame1, text=\"计算结果\")\n",
    "        w1.pack()\n",
    "        v = StringVar()\n",
    "        e1 = Entry(frame1, textvariable=v)\n",
    "        v.set(\"\")\n",
    "        self.v = v\n",
    "        e1.pack()\n",
    "\n",
    "\n",
    "def say_hi(self):\n",
    "    print \"hi there, everyone!\",self.e.get()\n",
    "    input_str = self.e.get()\n",
    "    self.v.set(cacl(input_str))\n",
    "    app = App(root)\n",
    "    root.mainloop()\n"
   ]
  },
  {
   "cell_type": "markdown",
   "metadata": {},
   "source": [
    "5\\.Ball game:Python's pinball game, which can realize the game function of the keyboard control bottom baffle moving collision ball similar to table tennis game. \n",
    "\n",
    "<div style=\"float:left;\" ><img src=\"img/p5.png\" width=\"200\" height=\"200\" center=\"left\"></div>\n",
    "<div style=\"float:left;\" ><img src=\"img/p6.png\" width=\"200\" height=\"200\" center=\"right\" ></div>\n"
   ]
  },
  {
   "cell_type": "markdown",
   "metadata": {},
   "source": [
    "this is a step:how to install the matplotlib,you can reference this link:https://blog.csdn.net/not_give_up_/article/details/79058272\n",
    "1. Ball Class\n",
    "    draw is responsible for moving Ball\n",
    "    Collision detection, bounce, Ball detection of Paddle \n",
    "2. Paddle Class\n",
    "    draw is responsible for moving Paddle\n",
    "    Collision detection to determine whether or not to continue ,Monitor keyboard events\n",
    "3. main cycle\n",
    "    Drawing the Ball and Paddle"
   ]
  },
  {
   "cell_type": "code",
   "execution_count": null,
   "metadata": {},
   "outputs": [],
   "source": [
    "## write your answer here!\n",
    "from Tkinter import *\n",
    "import matplotlib\n",
    "matplotlib.use('Agg')\n",
    "import random\n",
    "import time\n",
    "class Ball:\n",
    "  def __init__(self, canvas, paddle, color):\n",
    "    self.canvas = canvas\n",
    "    self.paddle = paddle\n",
    "    self.id = canvas.create_oval(10, 10, 25, 25, fill=color)\n",
    "    self.canvas.move(self.id, 245, 100)\n",
    "    startx = [-3, -2, -1, 1, 2, 3]\n",
    "    random.shuffle(startx)\n",
    "    self.x = startx[0]\n",
    "    self.y = -3\n",
    "    self.canvas_height = self.canvas.winfo_height()\n",
    "    self.canvas_width = self.canvas.winfo_width()\n",
    "    self.hit_bottom = False\n",
    "  def draw(self):\n",
    "    self.canvas.move(self.id, self.x, self.y)\n",
    "    pos = self.canvas.coords(self.id)#top-left bottom-right\n",
    "    if (pos[1] <= 0 or self.hit_paddle(pos) == True):\n",
    "      self.y = -self.y\n",
    "    if (pos[0] <= 0 or pos[2] >= self.canvas_width):\n",
    "      self.x = -self.x\n",
    "    if (pos[3] >= self.canvas_height):\n",
    "      self.hit_bottom = True\n",
    "  def hit_paddle(self, pos):\n",
    "    paddle_pos = self.canvas.coords(self.paddle.id)\n",
    "    if (pos[2] >= paddle_pos[0] and pos[0] <= paddle_pos[2]):\n",
    "      if (pos[3] >= paddle_pos[1] and pos[3] <= paddle_pos[3]):\n",
    "        return True\n",
    "    return False\n",
    "class Paddle:\n",
    "  def __init__(self, canvas, color):\n",
    "    self.canvas = canvas\n",
    "    self.id = canvas.create_rectangle(0, 0, 100, 10, fill = color)\n",
    "    self.x = 0\n",
    "    self.canvas.move(self.id, 200, 300)\n",
    "    self.canvas_width = self.canvas.winfo_width()\n",
    "    self.canvas.bind_all(\"<Key-Left>\", self.turn_left)\n",
    "    self.canvas.bind_all(\"<Key-Right>\", self.turn_right)\n",
    "  def draw(self):\n",
    "    pos = self.canvas.coords(self.id)\n",
    "    if (pos[0] + self.x >= 0 and pos[2] + self.x <= self.canvas_width):\n",
    "      self.canvas.move(self.id, self.x, 0)\n",
    "    #self.x = 0\n",
    "  def turn_left(self, event):\n",
    "    self.x = -4\n",
    "  def turn_right(self, event):\n",
    "    self.x = 4\n",
    "tk = Tk()\n",
    "tk.title(\"Game\")\n",
    "tk.resizable(0, 0)#not resizable\n",
    "tk.wm_attributes(\"-topmost\", 1)#at top\n",
    "canvas = Canvas(tk, width = 500, height = 500, bd = 0, highlightthickness = 0)\n",
    "canvas.pack()\n",
    "tk.update()#init\n",
    "paddle = Paddle(canvas, 'blue')\n",
    "ball = Ball(canvas, paddle, 'red')\n",
    "while 1:\n",
    "  if (ball.hit_bottom == False):\n",
    "    ball.draw()\n",
    "    paddle.draw()\n",
    "tk.update_idletasks()\n",
    "tk.update()\n",
    "time.sleep(0.01)\n"
   ]
  }
 ],
 "metadata": {
  "kernelspec": {
   "display_name": "Python 3",
   "language": "python",
   "name": "python3"
  },
  "language_info": {
   "codemirror_mode": {
    "name": "ipython",
    "version": 3
   },
   "file_extension": ".py",
   "mimetype": "text/x-python",
   "name": "python",
   "nbconvert_exporter": "python",
   "pygments_lexer": "ipython3",
   "version": "3.6.6"
  }
 },
 "nbformat": 4,
 "nbformat_minor": 2
}
